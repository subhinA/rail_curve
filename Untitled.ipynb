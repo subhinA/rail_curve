{
 "cells": [
  {
   "cell_type": "code",
   "execution_count": 1,
   "id": "ce648656",
   "metadata": {},
   "outputs": [],
   "source": [
    "import numpy as np \n",
    "import cv2 \n",
    " \n",
    "cap = cv2.VideoCapture(0) \n",
    " \n",
    "while(True): \n",
    "    # Capture frame-by-frame \n",
    "    ret, frame = cap.read() \n",
    " \n",
    "    # Our operations on the frame come here \n",
    "    gray = cv2.cvtColor(frame, cv2.COLOR_BGR2GRAY) \n",
    " \n",
    "    # Display the resulting frame \n",
    "    cv2.imshow('frame',gray) \n",
    "    if cv2.waitKey(1) & 0xFF == ord('q'): \n",
    "        break \n",
    " \n",
    "# When everything done, release the capture \n",
    "cap.release() \n",
    "cv2.destroyAllWindows() "
   ]
  },
  {
   "cell_type": "code",
   "execution_count": 2,
   "id": "3757d609",
   "metadata": {},
   "outputs": [
    {
     "name": "stdout",
     "output_type": "stream",
     "text": [
      "The video was successfully saved\n"
     ]
    }
   ],
   "source": [
    "# Python program to save a \n",
    "# video using OpenCV\n",
    "  \n",
    "   \n",
    "import cv2\n",
    "  \n",
    "   \n",
    "# Create an object to read \n",
    "# from camera\n",
    "video = cv2.VideoCapture(0)\n",
    "   \n",
    "# We need to check if camera\n",
    "# is opened previously or not\n",
    "if (video.isOpened() == False): \n",
    "    print(\"Error reading video file\")\n",
    "  \n",
    "# We need to set resolutions.\n",
    "# so, convert them from float to integer.\n",
    "frame_width = int(video.get(3))\n",
    "frame_height = int(video.get(4))\n",
    "   \n",
    "size = (frame_width, frame_height)\n",
    "   \n",
    "# Below VideoWriter object will create\n",
    "# a frame of above defined The output \n",
    "# is stored in 'filename.avi' file.\n",
    "result = cv2.VideoWriter('filename.avi', \n",
    "                         cv2.VideoWriter_fourcc(*'MJPG'),\n",
    "                         10, size)\n",
    "    \n",
    "while(True):\n",
    "    ret, frame = video.read()\n",
    "  \n",
    "    if ret == True: \n",
    "  \n",
    "        # Write the frame into the\n",
    "        # file 'filename.avi'\n",
    "        result.write(frame)\n",
    "  \n",
    "        # Display the frame\n",
    "        # saved in the file\n",
    "        cv2.imshow('Frame', frame)\n",
    "  \n",
    "        # Press S on keyboard \n",
    "        # to stop the process\n",
    "        if cv2.waitKey(1) & 0xFF == ord('s'):\n",
    "            break\n",
    "  \n",
    "    # Break the loop\n",
    "    else:\n",
    "        break\n",
    "  \n",
    "# When everything done, release \n",
    "# the video capture and video \n",
    "# write objects\n",
    "video.release()\n",
    "result.release()\n",
    "    \n",
    "# Closes all the frames\n",
    "cv2.destroyAllWindows()\n",
    "   \n",
    "print(\"The video was successfully saved\")"
   ]
  },
  {
   "cell_type": "code",
   "execution_count": null,
   "id": "fdab4bec",
   "metadata": {},
   "outputs": [],
   "source": []
  }
 ],
 "metadata": {
  "kernelspec": {
   "display_name": "Python 3",
   "language": "python",
   "name": "python3"
  },
  "language_info": {
   "codemirror_mode": {
    "name": "ipython",
    "version": 3
   },
   "file_extension": ".py",
   "mimetype": "text/x-python",
   "name": "python",
   "nbconvert_exporter": "python",
   "pygments_lexer": "ipython3",
   "version": "3.6.13"
  }
 },
 "nbformat": 4,
 "nbformat_minor": 5
}
